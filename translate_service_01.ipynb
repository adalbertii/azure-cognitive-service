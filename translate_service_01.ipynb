{
  "nbformat": 4,
  "nbformat_minor": 0,
  "metadata": {
    "colab": {
      "provenance": [],
      "authorship_tag": "ABX9TyPaC4KOXKPG1BiN0kbRKls6",
      "include_colab_link": true
    },
    "kernelspec": {
      "name": "python3",
      "display_name": "Python 3"
    },
    "language_info": {
      "name": "python"
    }
  },
  "cells": [
    {
      "cell_type": "markdown",
      "metadata": {
        "id": "view-in-github",
        "colab_type": "text"
      },
      "source": [
        "<a href=\"https://colab.research.google.com/github/adalbertii/azure-cognitive-service/blob/main/translate_service_01.ipynb\" target=\"_parent\"><img src=\"https://colab.research.google.com/assets/colab-badge.svg\" alt=\"Open In Colab\"/></a>"
      ]
    },
    {
      "cell_type": "code",
      "source": [
        "import requests, uuid, json\n",
        "\n",
        "\n",
        "subscription_key = \"dc5924dac7df4a0fb535ec68b9e71664\"\n",
        "endpoint = \"https://api.cognitive.microsofttranslator.com/\"\n",
        "\n",
        "# Ustwienie swojej lokalizacji\n",
        "# Jest to wymagane w przypadku korzystania z zasobu Cognitive Services.\n",
        "location = \"westeurope\"\n",
        "\n",
        "path = '/translate'\n",
        "constructed_url = endpoint + path\n",
        "\n"
      ],
      "metadata": {
        "id": "nSgexP2KJo-i"
      },
      "execution_count": null,
      "outputs": []
    },
    {
      "cell_type": "code",
      "source": [
        "params = {\n",
        "    'api-version': '3.0',\n",
        "    'from': 'en',\n",
        "    'to': ['de', 'it', 'pl']\n",
        "}\n"
      ],
      "metadata": {
        "id": "9k2DFiaKK_rh"
      },
      "execution_count": 32,
      "outputs": []
    },
    {
      "cell_type": "code",
      "source": [
        "\n",
        "\n",
        "headers = {\n",
        "    'Ocp-Apim-Subscription-Key': subscription_key,\n",
        "    'Ocp-Apim-Subscription-Region': location,\n",
        "    'Content-type': 'application/json',\n",
        "    'X-ClientTraceId': str(uuid.uuid4())\n",
        "}\n",
        "\n",
        "\n",
        "text = input('What text do you want to translate? ')\n",
        "body = [{\n",
        "    'text': text\n",
        "}]\n"
      ],
      "metadata": {
        "colab": {
          "base_uri": "https://localhost:8080/"
        },
        "id": "v8ZqSuz-LNKM",
        "outputId": "d0e0cd01-f58f-4540-bd27-f04ddaa5456f"
      },
      "execution_count": 33,
      "outputs": [
        {
          "name": "stdout",
          "output_type": "stream",
          "text": [
            "What text do you want to translate? Imagine a single easy-to-use console built just for you, your team, and your projects. \n"
          ]
        }
      ]
    },
    {
      "cell_type": "code",
      "source": [
        "request = requests.post(constructed_url, params=params, headers=headers, json=body)"
      ],
      "metadata": {
        "id": "y9XmB5wzLd6q"
      },
      "execution_count": 34,
      "outputs": []
    },
    {
      "cell_type": "code",
      "source": [
        "response = request.json()\n",
        "\n",
        "print(json.dumps(response, sort_keys=True, ensure_ascii=False, indent=4, separators=(',', ': ')))\n"
      ],
      "metadata": {
        "colab": {
          "base_uri": "https://localhost:8080/"
        },
        "id": "cNpdUwGqLgYY",
        "outputId": "8c4afba4-7cf7-404e-cd0e-68e0169e1327"
      },
      "execution_count": 35,
      "outputs": [
        {
          "output_type": "stream",
          "name": "stdout",
          "text": [
            "[\n",
            "    {\n",
            "        \"translations\": [\n",
            "            {\n",
            "                \"text\": \"Stellen Sie sich eine einzige, benutzerfreundliche Konsole vor, die nur für Sie, Ihr Team und Ihre Projekte entwickelt wurde. \",\n",
            "                \"to\": \"de\"\n",
            "            },\n",
            "            {\n",
            "                \"text\": \"Immagina un'unica console facile da usare creata appositamente per te, il tuo team e i tuoi progetti. \",\n",
            "                \"to\": \"it\"\n",
            "            },\n",
            "            {\n",
            "                \"text\": \"Wyobraź sobie jedną, łatwą w użyciu konsolę stworzoną specjalnie dla Ciebie, Twojego zespołu i Twoich projektów. \",\n",
            "                \"to\": \"pl\"\n",
            "            }\n",
            "        ]\n",
            "    }\n",
            "]\n"
          ]
        }
      ]
    }
  ]
}