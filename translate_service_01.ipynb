{
  "nbformat": 4,
  "nbformat_minor": 0,
  "metadata": {
    "colab": {
      "provenance": [],
      "authorship_tag": "ABX9TyM72HAY2A4JPNgoQIHDLj8t",
      "include_colab_link": true
    },
    "kernelspec": {
      "name": "python3",
      "display_name": "Python 3"
    },
    "language_info": {
      "name": "python"
    }
  },
  "cells": [
    {
      "cell_type": "markdown",
      "metadata": {
        "id": "view-in-github",
        "colab_type": "text"
      },
      "source": [
        "<a href=\"https://colab.research.google.com/github/adalbertii/azure-cognitive-service/blob/main/translate_service_01.ipynb\" target=\"_parent\"><img src=\"https://colab.research.google.com/assets/colab-badge.svg\" alt=\"Open In Colab\"/></a>"
      ]
    },
    {
      "cell_type": "markdown",
      "source": [
        "**Azure Cognitive service \"wmi-translate\"**\n",
        "\n",
        "Wykorzystanie REST API"
      ],
      "metadata": {
        "id": "DmSXeS7_OFXX"
      }
    },
    {
      "cell_type": "code",
      "source": [
        "import requests, uuid, json"
      ],
      "metadata": {
        "id": "nSgexP2KJo-i"
      },
      "execution_count": null,
      "outputs": []
    },
    {
      "cell_type": "code",
      "source": [
        "# klucz dostepowy i endpoint\n",
        "subscription_key = \"*************************\"\n",
        "\n",
        "endpoint = \"https://api.cognitive.microsofttranslator.com/\"\n",
        "\n"
      ],
      "metadata": {
        "id": "UEJE8tYvOnnR"
      },
      "execution_count": null,
      "outputs": []
    },
    {
      "cell_type": "code",
      "source": [
        "# Ustwienie swojej lokalizacji\n",
        "# Jest to wymagane w przypadku korzystania z zasobu TRANSLATE Cognitive Services.\n",
        "location = \"westeurope\"\n",
        "\n",
        "path = '/translate'\n",
        "constructed_url = endpoint + path"
      ],
      "metadata": {
        "id": "rJDZogzUOs3e"
      },
      "execution_count": null,
      "outputs": []
    },
    {
      "cell_type": "code",
      "source": [
        "# specyfikacja parametrów Request-a\n",
        "# z jakiego języka\n",
        "# na jaki\n",
        "\n",
        "params = {\n",
        "    'api-version': '3.0',\n",
        "    'from': 'en',\n",
        "    'to': ['de', 'it', 'pl']\n",
        "}\n"
      ],
      "metadata": {
        "id": "9k2DFiaKK_rh"
      },
      "execution_count": null,
      "outputs": []
    },
    {
      "cell_type": "code",
      "source": [
        "\n",
        "headers = {\n",
        "    'Ocp-Apim-Subscription-Key': subscription_key,\n",
        "    'Ocp-Apim-Subscription-Region': location, # WAZNE\n",
        "    'Content-type': 'application/json',\n",
        "    'X-ClientTraceId': str(uuid.uuid4())\n",
        "}\n",
        "\n"
      ],
      "metadata": {
        "id": "v8ZqSuz-LNKM"
      },
      "execution_count": null,
      "outputs": []
    },
    {
      "cell_type": "code",
      "source": [
        "# okno dialogowe\n",
        "text = input('Podaj tekst do przetłumaczenia  ')\n",
        "\n",
        "# ustalenie body Request-a\n",
        "body = [{\n",
        "    'text': text\n",
        "}]\n"
      ],
      "metadata": {
        "id": "g7Si5mi_PGUL",
        "outputId": "a335d5ba-08dd-44bc-d54f-2257038dbae3",
        "colab": {
          "base_uri": "https://localhost:8080/"
        }
      },
      "execution_count": null,
      "outputs": [
        {
          "name": "stdout",
          "output_type": "stream",
          "text": [
            "Podaj tekst do przetłumaczenia  Azure App Service enables you to build and host web apps, mobile back ends, and RESTful APIs in the programming language of your choice without managing infrastructure.\n"
          ]
        }
      ]
    },
    {
      "cell_type": "code",
      "source": [
        "print(\"Podany tekst do przetłumaczenia : \", text)"
      ],
      "metadata": {
        "id": "4SzhI7KsPwlw",
        "outputId": "460d5c0c-d117-4fe7-c7a6-6a21b89b5692",
        "colab": {
          "base_uri": "https://localhost:8080/"
        }
      },
      "execution_count": null,
      "outputs": [
        {
          "output_type": "stream",
          "name": "stdout",
          "text": [
            "Podany tekst :  Azure App Service enables you to build and host web apps, mobile back ends, and RESTful APIs in the programming language of your choice without managing infrastructure.\n"
          ]
        }
      ]
    },
    {
      "cell_type": "code",
      "source": [
        "# egzekucja Request\n",
        "request = requests.post(constructed_url, params=params, headers=headers, json=body)"
      ],
      "metadata": {
        "id": "y9XmB5wzLd6q"
      },
      "execution_count": null,
      "outputs": []
    },
    {
      "cell_type": "code",
      "source": [
        "# odbiór i interpretacja Response\n",
        "response = request.json()\n",
        "\n",
        "print(json.dumps(response, sort_keys=True, ensure_ascii=False, indent=4, separators=(',', ': ')))\n"
      ],
      "metadata": {
        "colab": {
          "base_uri": "https://localhost:8080/"
        },
        "id": "cNpdUwGqLgYY",
        "outputId": "45a5cd54-76cf-46dc-b373-089f7d1fe6e6"
      },
      "execution_count": null,
      "outputs": [
        {
          "output_type": "stream",
          "name": "stdout",
          "text": [
            "[\n",
            "    {\n",
            "        \"translations\": [\n",
            "            {\n",
            "                \"text\": \"Mit Azure App Service können Sie Web-Apps, mobile Back-Ends und RESTful-APIs in der Programmiersprache Ihrer Wahl erstellen und hosten, ohne die Infrastruktur verwalten zu müssen.\",\n",
            "                \"to\": \"de\"\n",
            "            },\n",
            "            {\n",
            "                \"text\": \"Il servizio app di Azure consente di creare e ospitare app Web, back-end per dispositivi mobili e API RESTful nel linguaggio di programmazione desiderato senza gestire l'infrastruttura.\",\n",
            "                \"to\": \"it\"\n",
            "            },\n",
            "            {\n",
            "                \"text\": \"Azure App Service umożliwia tworzenie i hostowanie aplikacji internetowych, zaplecza mobilnego i interfejsów API RESTful w wybranym języku programowania bez konieczności zarządzania infrastrukturą.\",\n",
            "                \"to\": \"pl\"\n",
            "            }\n",
            "        ]\n",
            "    }\n",
            "]\n"
          ]
        }
      ]
    }
  ]
}