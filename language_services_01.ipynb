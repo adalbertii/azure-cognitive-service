{
  "nbformat": 4,
  "nbformat_minor": 0,
  "metadata": {
    "colab": {
      "provenance": [],
      "authorship_tag": "ABX9TyP5QXsXw2inem7PvpVZuJ7Z",
      "include_colab_link": true
    },
    "kernelspec": {
      "name": "python3",
      "display_name": "Python 3"
    },
    "language_info": {
      "name": "python"
    }
  },
  "cells": [
    {
      "cell_type": "markdown",
      "metadata": {
        "id": "view-in-github",
        "colab_type": "text"
      },
      "source": [
        "<a href=\"https://colab.research.google.com/github/adalbertii/azure-cognitive-service/blob/main/language_services_01.ipynb\" target=\"_parent\"><img src=\"https://colab.research.google.com/assets/colab-badge.svg\" alt=\"Open In Colab\"/></a>"
      ]
    },
    {
      "cell_type": "markdown",
      "source": [
        "**Language**\n",
        "\n",
        "- Serwis : wmi-language\n",
        "\n",
        "- Komunikacja z serwisem Azure - w oparciu o REST API"
      ],
      "metadata": {
        "id": "wyR9P68zBWg1"
      }
    },
    {
      "cell_type": "code",
      "source": [
        "import requests\n",
        "import os\n",
        "\n",
        "from pprint import pprint\n",
        "# służy do formatowania odpowiedzi JSON"
      ],
      "metadata": {
        "id": "sD4Nxu6X9BYw"
      },
      "execution_count": null,
      "outputs": []
    },
    {
      "cell_type": "code",
      "source": [
        "# klucz dostępowy i endpoint serwisu \"wmi-language\"\n",
        "\n",
        "subscription_key = \"**************************\"\n",
        "\n",
        "endpoint = \"https://wmi-language.cognitiveservices.azure.com/\""
      ],
      "metadata": {
        "id": "fd6RK_4R9DFH"
      },
      "execution_count": null,
      "outputs": []
    },
    {
      "cell_type": "markdown",
      "source": [
        "**Detekcja języka**"
      ],
      "metadata": {
        "id": "nXbp9hcK9_3d"
      }
    },
    {
      "cell_type": "code",
      "source": [
        "language_api_url = endpoint + \"/text/analytics/v3.0/languages\"\n",
        "\n",
        "print(\"Pełny URL : \", language_api_url)"
      ],
      "metadata": {
        "id": "nOBt__8y9Po4"
      },
      "execution_count": null,
      "outputs": []
    },
    {
      "cell_type": "code",
      "source": [
        "# definicja dokumentu JSON z obiektami zawierającymi teksty do przetłumaczenia\n",
        "documents = {\"documents\": [\n",
        "    {\"id\": \"1\", \"text\": \"An example sentence in English.\"},\n",
        "    {\"id\": \"2\", \"text\": \"une phrase d'exemple en français.\"},\n",
        "]}"
      ],
      "metadata": {
        "id": "Vn3yl2BZ9UPk"
      },
      "execution_count": null,
      "outputs": []
    },
    {
      "cell_type": "code",
      "source": [
        "headers = {\"Ocp-Apim-Subscription-Key\": subscription_key}\n"
      ],
      "metadata": {
        "id": "psWjWm6z9YLK"
      },
      "execution_count": null,
      "outputs": []
    },
    {
      "cell_type": "code",
      "source": [
        "response = requests.post(language_api_url,\n",
        "                         headers = headers,\n",
        "                         json = documents)"
      ],
      "metadata": {
        "id": "_2MMRbvlStbV"
      },
      "execution_count": null,
      "outputs": []
    },
    {
      "cell_type": "code",
      "source": [
        "# interpretacja Response\n",
        "\n",
        "languages = response.json()\n",
        "pprint(languages)"
      ],
      "metadata": {
        "id": "AqcSyTmF9fZK"
      },
      "execution_count": null,
      "outputs": []
    },
    {
      "cell_type": "markdown",
      "source": [
        "**Analiza \"sentiment\"**\n",
        "\n",
        "Aby wykryć 'sentyment' zestawu dokumentów"
      ],
      "metadata": {
        "id": "3zwsuSpS-Lao"
      }
    },
    {
      "cell_type": "code",
      "source": [
        "# korzystamy z serwisu Azure \"wmi-language\"\n",
        "\n",
        "sentiment_url = endpoint + \"/text/analytics/v3.0/sentiment\""
      ],
      "metadata": {
        "id": "rhhUWKL3-QbZ"
      },
      "execution_count": null,
      "outputs": []
    },
    {
      "cell_type": "code",
      "source": [
        "documents = {\"documents\": [\n",
        "    {\"id\": \"1\", \"language\": \"en\",\n",
        "        \"text\": \"This app is getting worse!!!! No notifications for calls, voicenotes rarely work for the person receiving them from me!!\"},\n",
        "    {\"id\": \"2\", \"language\": \"en\",\n",
        "        \"text\": \"The app is very great. Beyond expectation. This is my main messaging app. And so do my friends.\"}\n",
        "]}"
      ],
      "metadata": {
        "id": "LuF1Uvba-Vz4"
      },
      "execution_count": null,
      "outputs": []
    },
    {
      "cell_type": "code",
      "source": [
        "headers = {\"Ocp-Apim-Subscription-Key\": subscription_key}\n",
        "\n"
      ],
      "metadata": {
        "id": "pwELrFtG-ZXH"
      },
      "execution_count": null,
      "outputs": []
    },
    {
      "cell_type": "code",
      "source": [
        "response = requests.post(sentiment_url, headers=headers, json=documents)"
      ],
      "metadata": {
        "id": "mZ-fGo9HToY5"
      },
      "execution_count": null,
      "outputs": []
    },
    {
      "cell_type": "code",
      "source": [
        "# Iterpretacja odpowiedzi\n",
        "# Możliwe odpowiedzi:\n",
        "#      negative\n",
        "#      neutral\n",
        "#      positive\n",
        "\n",
        "sentiments = response.json()\n",
        "pprint(sentiments)"
      ],
      "metadata": {
        "id": "5pkWky2c-g0Y"
      },
      "execution_count": null,
      "outputs": []
    },
    {
      "cell_type": "markdown",
      "source": [
        "**Wyodrębnianie kluczowych fraz**\n",
        "\n",
        "Aby wyodrębnić kluczowe frazy z zestawu dokumentów"
      ],
      "metadata": {
        "id": "2hTSskXD-opH"
      }
    },
    {
      "cell_type": "code",
      "source": [
        "keyphrase_url = endpoint + \"/text/analytics/v3.0/keyphrases\""
      ],
      "metadata": {
        "id": "cRH9dVrE-oHz"
      },
      "execution_count": null,
      "outputs": []
    },
    {
      "cell_type": "code",
      "source": [
        "documents = {\"documents\": [\n",
        "    {\"id\": \"1\", \"language\": \"en\",\n",
        "        \"text\": \"I really enjoy the new XBox One S. It has a clean look, it has 4K/HDR resolution and it is affordable.\"},\n",
        "    {\"id\": \"2\", \"language\": \"es\",\n",
        "        \"text\": \"Si usted quiere comunicarse con Carlos, usted debe de llamarlo a su telefono movil. Carlos es muy responsable, pero necesita recibir una notificacion si hay algun problema.\"},\n",
        "]}"
      ],
      "metadata": {
        "id": "dI8hCUxL-1U9"
      },
      "execution_count": null,
      "outputs": []
    },
    {
      "cell_type": "code",
      "source": [
        "headers = {\"Ocp-Apim-Subscription-Key\": subscription_key}\n"
      ],
      "metadata": {
        "id": "LV8F8Hoh-5Cj"
      },
      "execution_count": null,
      "outputs": []
    },
    {
      "cell_type": "code",
      "source": [
        "response = requests.post(keyphrase_url, headers=headers, json=documents)\n"
      ],
      "metadata": {
        "id": "VNcqE3egUVMJ"
      },
      "execution_count": null,
      "outputs": []
    },
    {
      "cell_type": "code",
      "source": [
        "key_phrases = response.json()\n",
        "pprint(key_phrases)"
      ],
      "metadata": {
        "id": "17BD6HzV-9MY"
      },
      "execution_count": null,
      "outputs": []
    },
    {
      "cell_type": "markdown",
      "source": [
        "**Identyfikacja podmiotów**\n",
        "\n",
        "Identyfikacja znanych podmiotów (osób, miejsc i rzeczy) w dokumentach tekstowych,"
      ],
      "metadata": {
        "id": "nHtT17xl_ZJS"
      }
    },
    {
      "cell_type": "code",
      "source": [
        "entities_url = endpoint + \"/text/analytics/v3.0/entities/recognition/general\""
      ],
      "metadata": {
        "id": "ebFuEYNc--a-"
      },
      "execution_count": null,
      "outputs": []
    },
    {
      "cell_type": "code",
      "source": [
        "documents = {\"documents\": [\n",
        "    {\"id\": \"1\", \"text\": \"The Westin has really good service. You can call them at 111-111-1111\"}\n",
        "]}"
      ],
      "metadata": {
        "id": "1hBHCngA_Skh"
      },
      "execution_count": null,
      "outputs": []
    },
    {
      "cell_type": "code",
      "source": [
        "headers = {\"Ocp-Apim-Subscription-Key\": subscription_key}\n",
        "response = requests.post(entities_url, headers=headers, json=documents)\n",
        "entities = response.json()\n",
        "pprint(entities)"
      ],
      "metadata": {
        "id": "d3kIbhT-_zHY"
      },
      "execution_count": null,
      "outputs": []
    }
  ]
}