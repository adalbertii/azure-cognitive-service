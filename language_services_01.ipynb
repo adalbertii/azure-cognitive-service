{
  "nbformat": 4,
  "nbformat_minor": 0,
  "metadata": {
    "colab": {
      "provenance": [],
      "authorship_tag": "ABX9TyMZEWxKGjdwvRPwdT7wYNfn",
      "include_colab_link": true
    },
    "kernelspec": {
      "name": "python3",
      "display_name": "Python 3"
    },
    "language_info": {
      "name": "python"
    }
  },
  "cells": [
    {
      "cell_type": "markdown",
      "metadata": {
        "id": "view-in-github",
        "colab_type": "text"
      },
      "source": [
        "<a href=\"https://colab.research.google.com/github/adalbertii/azure-cognitive-service/blob/main/language_services_01.ipynb\" target=\"_parent\"><img src=\"https://colab.research.google.com/assets/colab-badge.svg\" alt=\"Open In Colab\"/></a>"
      ]
    },
    {
      "cell_type": "markdown",
      "source": [
        "**Language**\n",
        "\n",
        "- Serwis : wmi-language\n",
        "\n",
        "- Komunikacja z serwisem Azure - w oparciu o REST API"
      ],
      "metadata": {
        "id": "wyR9P68zBWg1"
      }
    },
    {
      "cell_type": "code",
      "source": [
        "import requests\n",
        "import os\n",
        "\n",
        "from pprint import pprint\n",
        "# służy do formatowania odpowiedzi JSON"
      ],
      "metadata": {
        "id": "sD4Nxu6X9BYw"
      },
      "execution_count": 1,
      "outputs": []
    },
    {
      "cell_type": "code",
      "source": [
        "# klucz dostępowy i endpoint serwisu \"wmi-language\"\n",
        "\n",
        "subscription_key = \"b5b65bd3ac7f4e3699c9534b18e29805\"\n",
        "endpoint = \"https://wmi-language.cognitiveservices.azure.com/\""
      ],
      "metadata": {
        "id": "fd6RK_4R9DFH"
      },
      "execution_count": 2,
      "outputs": []
    },
    {
      "cell_type": "markdown",
      "source": [
        "**Detekcja języka**"
      ],
      "metadata": {
        "id": "nXbp9hcK9_3d"
      }
    },
    {
      "cell_type": "code",
      "source": [
        "language_api_url = endpoint + \"/text/analytics/v3.0/languages\"\n",
        "\n",
        "print(\"Pełny URL : \", language_api_url)"
      ],
      "metadata": {
        "id": "nOBt__8y9Po4",
        "outputId": "cffda277-39cc-4bc1-cfac-3b79a49ced75",
        "colab": {
          "base_uri": "https://localhost:8080/"
        }
      },
      "execution_count": 7,
      "outputs": [
        {
          "output_type": "stream",
          "name": "stdout",
          "text": [
            "Pełny URL :  https://wmi-language.cognitiveservices.azure.com//text/analytics/v3.0/languages\n"
          ]
        }
      ]
    },
    {
      "cell_type": "code",
      "source": [
        "# definicja dokumentu JSON z obiektami zawierającymi teksty do przetłumaczenia\n",
        "documents = {\"documents\": [\n",
        "    {\"id\": \"1\", \"text\": \"An example sentence in English.\"},\n",
        "    {\"id\": \"2\", \"text\": \"une phrase d'exemple en français.\"},\n",
        "]}"
      ],
      "metadata": {
        "id": "Vn3yl2BZ9UPk"
      },
      "execution_count": 8,
      "outputs": []
    },
    {
      "cell_type": "code",
      "source": [
        "headers = {\"Ocp-Apim-Subscription-Key\": subscription_key}\n"
      ],
      "metadata": {
        "id": "psWjWm6z9YLK"
      },
      "execution_count": 9,
      "outputs": []
    },
    {
      "cell_type": "code",
      "source": [
        "response = requests.post(language_api_url,\n",
        "                         headers = headers,\n",
        "                         json = documents)"
      ],
      "metadata": {
        "id": "_2MMRbvlStbV"
      },
      "execution_count": 10,
      "outputs": []
    },
    {
      "cell_type": "code",
      "source": [
        "# interpretacja Response\n",
        "\n",
        "languages = response.json()\n",
        "pprint(languages)"
      ],
      "metadata": {
        "colab": {
          "base_uri": "https://localhost:8080/"
        },
        "id": "AqcSyTmF9fZK",
        "outputId": "551575a6-19d5-4807-96cd-e8fa552bb97a"
      },
      "execution_count": 11,
      "outputs": [
        {
          "output_type": "stream",
          "name": "stdout",
          "text": [
            "{'documents': [{'detectedLanguage': {'confidenceScore': 0.99,\n",
            "                                     'iso6391Name': 'en',\n",
            "                                     'name': 'English'},\n",
            "                'id': '1',\n",
            "                'warnings': []},\n",
            "               {'detectedLanguage': {'confidenceScore': 1.0,\n",
            "                                     'iso6391Name': 'fr',\n",
            "                                     'name': 'French'},\n",
            "                'id': '2',\n",
            "                'warnings': []}],\n",
            " 'errors': [],\n",
            " 'modelVersion': '2022-10-01'}\n"
          ]
        }
      ]
    },
    {
      "cell_type": "markdown",
      "source": [
        "**Analiza \"sentiment\"**\n",
        "\n",
        "Aby wykryć 'sentyment' zestawu dokumentów"
      ],
      "metadata": {
        "id": "3zwsuSpS-Lao"
      }
    },
    {
      "cell_type": "code",
      "source": [
        "# korzystamy z serwisu Azure \"wmi-language\"\n",
        "\n",
        "sentiment_url = endpoint + \"/text/analytics/v3.0/sentiment\""
      ],
      "metadata": {
        "id": "rhhUWKL3-QbZ"
      },
      "execution_count": 12,
      "outputs": []
    },
    {
      "cell_type": "code",
      "source": [
        "documents = {\"documents\": [\n",
        "    {\"id\": \"1\", \"language\": \"en\",\n",
        "        \"text\": \"This app is getting worse!!!! No notifications for calls, voicenotes rarely work for the person receiving them from me!!\"},\n",
        "    {\"id\": \"2\", \"language\": \"en\",\n",
        "        \"text\": \"The app is very great. Beyond expectation. This is my main messaging app. And so do my friends.\"}\n",
        "]}"
      ],
      "metadata": {
        "id": "LuF1Uvba-Vz4"
      },
      "execution_count": 13,
      "outputs": []
    },
    {
      "cell_type": "code",
      "source": [
        "headers = {\"Ocp-Apim-Subscription-Key\": subscription_key}\n",
        "\n"
      ],
      "metadata": {
        "id": "pwELrFtG-ZXH"
      },
      "execution_count": 14,
      "outputs": []
    },
    {
      "cell_type": "code",
      "source": [
        "response = requests.post(sentiment_url, headers=headers, json=documents)"
      ],
      "metadata": {
        "id": "mZ-fGo9HToY5"
      },
      "execution_count": 15,
      "outputs": []
    },
    {
      "cell_type": "code",
      "source": [
        "# Iterpretacja odpowiedzi\n",
        "# Możliwe odpowiedzi:\n",
        "#      negative\n",
        "#      neutral\n",
        "#      positive\n",
        "\n",
        "sentiments = response.json()\n",
        "pprint(sentiments)"
      ],
      "metadata": {
        "colab": {
          "base_uri": "https://localhost:8080/"
        },
        "id": "5pkWky2c-g0Y",
        "outputId": "2ce49377-42f9-43a0-c0c4-618b8fbb7528"
      },
      "execution_count": 16,
      "outputs": [
        {
          "output_type": "stream",
          "name": "stdout",
          "text": [
            "{'documents': [{'confidenceScores': {'negative': 0.75,\n",
            "                                     'neutral': 0.23,\n",
            "                                     'positive': 0.03},\n",
            "                'id': '1',\n",
            "                'sentences': [{'confidenceScores': {'negative': 0.98,\n",
            "                                                    'neutral': 0.01,\n",
            "                                                    'positive': 0.0},\n",
            "                               'length': 30,\n",
            "                               'offset': 0,\n",
            "                               'sentiment': 'negative',\n",
            "                               'text': 'This app is getting worse!!!! '},\n",
            "                              {'confidenceScores': {'negative': 0.51,\n",
            "                                                    'neutral': 0.44,\n",
            "                                                    'positive': 0.05},\n",
            "                               'length': 90,\n",
            "                               'offset': 30,\n",
            "                               'sentiment': 'negative',\n",
            "                               'text': 'No notifications for calls, voicenotes '\n",
            "                                       'rarely work for the person receiving '\n",
            "                                       'them from me!!'}],\n",
            "                'sentiment': 'negative',\n",
            "                'warnings': []},\n",
            "               {'confidenceScores': {'negative': 0.0,\n",
            "                                     'neutral': 0.0,\n",
            "                                     'positive': 1.0},\n",
            "                'id': '2',\n",
            "                'sentences': [{'confidenceScores': {'negative': 0.0,\n",
            "                                                    'neutral': 0.0,\n",
            "                                                    'positive': 1.0},\n",
            "                               'length': 23,\n",
            "                               'offset': 0,\n",
            "                               'sentiment': 'positive',\n",
            "                               'text': 'The app is very great. '},\n",
            "                              {'confidenceScores': {'negative': 0.1,\n",
            "                                                    'neutral': 0.46,\n",
            "                                                    'positive': 0.45},\n",
            "                               'length': 20,\n",
            "                               'offset': 23,\n",
            "                               'sentiment': 'neutral',\n",
            "                               'text': 'Beyond expectation. '},\n",
            "                              {'confidenceScores': {'negative': 0.01,\n",
            "                                                    'neutral': 0.85,\n",
            "                                                    'positive': 0.14},\n",
            "                               'length': 31,\n",
            "                               'offset': 43,\n",
            "                               'sentiment': 'neutral',\n",
            "                               'text': 'This is my main messaging app. '},\n",
            "                              {'confidenceScores': {'negative': 0.03,\n",
            "                                                    'neutral': 0.59,\n",
            "                                                    'positive': 0.38},\n",
            "                               'length': 21,\n",
            "                               'offset': 74,\n",
            "                               'sentiment': 'neutral',\n",
            "                               'text': 'And so do my friends.'}],\n",
            "                'sentiment': 'positive',\n",
            "                'warnings': []}],\n",
            " 'errors': [],\n",
            " 'modelVersion': '2022-11-01'}\n"
          ]
        }
      ]
    },
    {
      "cell_type": "markdown",
      "source": [
        "**Wyodrębnianie kluczowych fraz**\n",
        "\n",
        "Aby wyodrębnić kluczowe frazy z zestawu dokumentów"
      ],
      "metadata": {
        "id": "2hTSskXD-opH"
      }
    },
    {
      "cell_type": "code",
      "source": [
        "keyphrase_url = endpoint + \"/text/analytics/v3.0/keyphrases\""
      ],
      "metadata": {
        "id": "cRH9dVrE-oHz"
      },
      "execution_count": null,
      "outputs": []
    },
    {
      "cell_type": "code",
      "source": [
        "documents = {\"documents\": [\n",
        "    {\"id\": \"1\", \"language\": \"en\",\n",
        "        \"text\": \"I really enjoy the new XBox One S. It has a clean look, it has 4K/HDR resolution and it is affordable.\"},\n",
        "    {\"id\": \"2\", \"language\": \"es\",\n",
        "        \"text\": \"Si usted quiere comunicarse con Carlos, usted debe de llamarlo a su telefono movil. Carlos es muy responsable, pero necesita recibir una notificacion si hay algun problema.\"},\n",
        "]}"
      ],
      "metadata": {
        "id": "dI8hCUxL-1U9"
      },
      "execution_count": null,
      "outputs": []
    },
    {
      "cell_type": "code",
      "source": [
        "headers = {\"Ocp-Apim-Subscription-Key\": subscription_key}\n"
      ],
      "metadata": {
        "id": "LV8F8Hoh-5Cj"
      },
      "execution_count": null,
      "outputs": []
    },
    {
      "cell_type": "code",
      "source": [
        "response = requests.post(keyphrase_url, headers=headers, json=documents)\n"
      ],
      "metadata": {
        "id": "VNcqE3egUVMJ"
      },
      "execution_count": null,
      "outputs": []
    },
    {
      "cell_type": "code",
      "source": [
        "key_phrases = response.json()\n",
        "pprint(key_phrases)"
      ],
      "metadata": {
        "colab": {
          "base_uri": "https://localhost:8080/"
        },
        "id": "17BD6HzV-9MY",
        "outputId": "ea226453-1af3-47d9-a950-49f8082954f5"
      },
      "execution_count": null,
      "outputs": [
        {
          "output_type": "stream",
          "name": "stdout",
          "text": [
            "{'documents': [{'id': '1',\n",
            "                'keyPhrases': ['new XBox One S.',\n",
            "                               'clean look',\n",
            "                               '4K/HDR resolution'],\n",
            "                'warnings': []},\n",
            "               {'id': '2',\n",
            "                'keyPhrases': ['telefono movil',\n",
            "                               'Carlos',\n",
            "                               'notificacion',\n",
            "                               'problema'],\n",
            "                'warnings': []}],\n",
            " 'errors': [],\n",
            " 'modelVersion': '2022-10-01'}\n"
          ]
        }
      ]
    },
    {
      "cell_type": "markdown",
      "source": [
        "**Identyfikacja podmiotów**\n",
        "\n",
        "Identyfikacja znanych podmiotów (osób, miejsc i rzeczy) w dokumentach tekstowych,"
      ],
      "metadata": {
        "id": "nHtT17xl_ZJS"
      }
    },
    {
      "cell_type": "code",
      "source": [
        "entities_url = endpoint + \"/text/analytics/v3.0/entities/recognition/general\""
      ],
      "metadata": {
        "id": "ebFuEYNc--a-"
      },
      "execution_count": null,
      "outputs": []
    },
    {
      "cell_type": "code",
      "source": [
        "documents = {\"documents\": [\n",
        "    {\"id\": \"1\", \"text\": \"The Westin has really good service. You can call them at 111-111-1111\"}\n",
        "]}"
      ],
      "metadata": {
        "id": "1hBHCngA_Skh"
      },
      "execution_count": null,
      "outputs": []
    },
    {
      "cell_type": "code",
      "source": [
        "headers = {\"Ocp-Apim-Subscription-Key\": subscription_key}\n",
        "response = requests.post(entities_url, headers=headers, json=documents)\n",
        "entities = response.json()\n",
        "pprint(entities)"
      ],
      "metadata": {
        "colab": {
          "base_uri": "https://localhost:8080/"
        },
        "id": "d3kIbhT-_zHY",
        "outputId": "15ad505f-397d-4a34-8f77-6aa4601d1ea1"
      },
      "execution_count": null,
      "outputs": [
        {
          "output_type": "stream",
          "name": "stdout",
          "text": [
            "{'documents': [{'entities': [{'category': 'Organization',\n",
            "                              'confidenceScore': 0.81,\n",
            "                              'length': 6,\n",
            "                              'offset': 4,\n",
            "                              'text': 'Westin'},\n",
            "                             {'category': 'PhoneNumber',\n",
            "                              'confidenceScore': 0.8,\n",
            "                              'length': 12,\n",
            "                              'offset': 57,\n",
            "                              'text': '111-111-1111'}],\n",
            "                'id': '1',\n",
            "                'warnings': []}],\n",
            " 'errors': [],\n",
            " 'modelVersion': '2023-09-01'}\n"
          ]
        }
      ]
    }
  ]
}