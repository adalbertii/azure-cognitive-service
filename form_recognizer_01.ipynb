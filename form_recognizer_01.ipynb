{
  "nbformat": 4,
  "nbformat_minor": 0,
  "metadata": {
    "colab": {
      "provenance": [],
      "mount_file_id": "https://github.com/adalbertii/azure-cognitive-service/blob/main/form_recognizer_01.ipynb",
      "authorship_tag": "ABX9TyPfyoQPBv5N1t/JyqRAoWd4",
      "include_colab_link": true
    },
    "kernelspec": {
      "name": "python3",
      "display_name": "Python 3"
    },
    "language_info": {
      "name": "python"
    }
  },
  "cells": [
    {
      "cell_type": "markdown",
      "metadata": {
        "id": "view-in-github",
        "colab_type": "text"
      },
      "source": [
        "<a href=\"https://colab.research.google.com/github/adalbertii/azure-cognitive-service/blob/main/form_recognizer_01.ipynb\" target=\"_parent\"><img src=\"https://colab.research.google.com/assets/colab-badge.svg\" alt=\"Open In Colab\"/></a>"
      ]
    },
    {
      "cell_type": "markdown",
      "source": [
        "**OCR -owanie przykładowej faktury**\n",
        "- wybranych pól\n",
        "- wszystkich pól wraz z oreśleniem pewności identyfikacji poszczególnych pól\n",
        "\n",
        "Wykorzystanie:\n",
        "- modelu wytrenowanego na fakturach wyspecyfikowanych w standardzie US\n",
        "\n",
        "- **API** - biblioteki **azure-ai-formrecognizer**"
      ],
      "metadata": {
        "id": "UN6HCR2-XJ5Q"
      }
    },
    {
      "cell_type": "code",
      "source": [
        "pip install azure-ai-formrecognizer==3.2.0"
      ],
      "metadata": {
        "id": "-a9X92G2VYNj",
        "outputId": "71bc4ed9-aae6-4675-ad4f-881fbf6355c2",
        "colab": {
          "base_uri": "https://localhost:8080/"
        }
      },
      "execution_count": 1,
      "outputs": [
        {
          "output_type": "stream",
          "name": "stdout",
          "text": [
            "Collecting azure-ai-formrecognizer==3.2.0\n",
            "  Downloading azure_ai_formrecognizer-3.2.0-py3-none-any.whl (228 kB)\n",
            "\u001b[2K     \u001b[90m━━━━━━━━━━━━━━━━━━━━━━━━━━━━━━━━━━━━━━━━\u001b[0m \u001b[32m228.4/228.4 kB\u001b[0m \u001b[31m3.8 MB/s\u001b[0m eta \u001b[36m0:00:00\u001b[0m\n",
            "\u001b[?25hCollecting azure-core<2.0.0,>=1.23.0 (from azure-ai-formrecognizer==3.2.0)\n",
            "  Downloading azure_core-1.29.5-py3-none-any.whl (192 kB)\n",
            "\u001b[2K     \u001b[90m━━━━━━━━━━━━━━━━━━━━━━━━━━━━━━━━━━━━━━━━\u001b[0m \u001b[32m192.4/192.4 kB\u001b[0m \u001b[31m6.0 MB/s\u001b[0m eta \u001b[36m0:00:00\u001b[0m\n",
            "\u001b[?25hCollecting msrest>=0.6.21 (from azure-ai-formrecognizer==3.2.0)\n",
            "  Downloading msrest-0.7.1-py3-none-any.whl (85 kB)\n",
            "\u001b[2K     \u001b[90m━━━━━━━━━━━━━━━━━━━━━━━━━━━━━━━━━━━━━━━━\u001b[0m \u001b[32m85.4/85.4 kB\u001b[0m \u001b[31m7.1 MB/s\u001b[0m eta \u001b[36m0:00:00\u001b[0m\n",
            "\u001b[?25hCollecting azure-common~=1.1 (from azure-ai-formrecognizer==3.2.0)\n",
            "  Downloading azure_common-1.1.28-py2.py3-none-any.whl (14 kB)\n",
            "Requirement already satisfied: typing-extensions>=4.0.1 in /usr/local/lib/python3.10/dist-packages (from azure-ai-formrecognizer==3.2.0) (4.5.0)\n",
            "Requirement already satisfied: requests>=2.18.4 in /usr/local/lib/python3.10/dist-packages (from azure-core<2.0.0,>=1.23.0->azure-ai-formrecognizer==3.2.0) (2.31.0)\n",
            "Requirement already satisfied: six>=1.11.0 in /usr/local/lib/python3.10/dist-packages (from azure-core<2.0.0,>=1.23.0->azure-ai-formrecognizer==3.2.0) (1.16.0)\n",
            "Collecting typing-extensions>=4.0.1 (from azure-ai-formrecognizer==3.2.0)\n",
            "  Downloading typing_extensions-4.9.0-py3-none-any.whl (32 kB)\n",
            "Requirement already satisfied: certifi>=2017.4.17 in /usr/local/lib/python3.10/dist-packages (from msrest>=0.6.21->azure-ai-formrecognizer==3.2.0) (2023.11.17)\n",
            "Collecting isodate>=0.6.0 (from msrest>=0.6.21->azure-ai-formrecognizer==3.2.0)\n",
            "  Downloading isodate-0.6.1-py2.py3-none-any.whl (41 kB)\n",
            "\u001b[2K     \u001b[90m━━━━━━━━━━━━━━━━━━━━━━━━━━━━━━━━━━━━━━━━\u001b[0m \u001b[32m41.7/41.7 kB\u001b[0m \u001b[31m5.1 MB/s\u001b[0m eta \u001b[36m0:00:00\u001b[0m\n",
            "\u001b[?25hRequirement already satisfied: requests-oauthlib>=0.5.0 in /usr/local/lib/python3.10/dist-packages (from msrest>=0.6.21->azure-ai-formrecognizer==3.2.0) (1.3.1)\n",
            "Requirement already satisfied: charset-normalizer<4,>=2 in /usr/local/lib/python3.10/dist-packages (from requests>=2.18.4->azure-core<2.0.0,>=1.23.0->azure-ai-formrecognizer==3.2.0) (3.3.2)\n",
            "Requirement already satisfied: idna<4,>=2.5 in /usr/local/lib/python3.10/dist-packages (from requests>=2.18.4->azure-core<2.0.0,>=1.23.0->azure-ai-formrecognizer==3.2.0) (3.6)\n",
            "Requirement already satisfied: urllib3<3,>=1.21.1 in /usr/local/lib/python3.10/dist-packages (from requests>=2.18.4->azure-core<2.0.0,>=1.23.0->azure-ai-formrecognizer==3.2.0) (2.0.7)\n",
            "Requirement already satisfied: oauthlib>=3.0.0 in /usr/local/lib/python3.10/dist-packages (from requests-oauthlib>=0.5.0->msrest>=0.6.21->azure-ai-formrecognizer==3.2.0) (3.2.2)\n",
            "Installing collected packages: azure-common, typing-extensions, isodate, azure-core, msrest, azure-ai-formrecognizer\n",
            "  Attempting uninstall: typing-extensions\n",
            "    Found existing installation: typing_extensions 4.5.0\n",
            "    Uninstalling typing_extensions-4.5.0:\n",
            "      Successfully uninstalled typing_extensions-4.5.0\n",
            "\u001b[31mERROR: pip's dependency resolver does not currently take into account all the packages that are installed. This behaviour is the source of the following dependency conflicts.\n",
            "tensorflow-probability 0.22.0 requires typing-extensions<4.6.0, but you have typing-extensions 4.9.0 which is incompatible.\u001b[0m\u001b[31m\n",
            "\u001b[0mSuccessfully installed azure-ai-formrecognizer-3.2.0 azure-common-1.1.28 azure-core-1.29.5 isodate-0.6.1 msrest-0.7.1 typing-extensions-4.9.0\n"
          ]
        }
      ]
    },
    {
      "cell_type": "code",
      "source": [
        "import os\n",
        "from azure.ai.formrecognizer import DocumentAnalysisClient\n",
        "from azure.core.credentials import AzureKeyCredential"
      ],
      "metadata": {
        "id": "ipZdCDvzO_qx"
      },
      "execution_count": 7,
      "outputs": []
    },
    {
      "cell_type": "code",
      "source": [
        "# parametry serwisu Azure FormRecognizer (form-reco-01)\n",
        "#-----------------------------------------------------------------------------\n",
        "endpoint = \"https://form-reco-01.cognitiveservices.azure.com/\"\n",
        "\n",
        "key = \"9e938ddce2f24a54ad0b95bd78bff72a\""
      ],
      "metadata": {
        "id": "tcx2AiohYWhX"
      },
      "execution_count": 8,
      "outputs": []
    },
    {
      "cell_type": "code",
      "source": [
        "# przykładow faktura\n",
        "invoiceUrl = \"https://raw.githubusercontent.com/Azure-Samples/cognitive-services-REST-api-samples/master/curl/form-recognizer/sample-invoice.pdf\""
      ],
      "metadata": {
        "id": "FlqxB5aQ_IG7"
      },
      "execution_count": 9,
      "outputs": []
    },
    {
      "cell_type": "code",
      "source": [
        "#++++++++++++++++++++++++++++++++++++++++++++++++++++++++++++++++++++++++++++++++++++++++++++++++++++++++++++++\n",
        "def analyze_invoice():\n",
        "# funkcja OCR-uje TYLKO wybrane pola z przykładowej faktury\n",
        "\n",
        "    document_analysis_client = DocumentAnalysisClient(endpoint=endpoint, credential=AzureKeyCredential(key))\n",
        "\n",
        "#----------------------------------------------------------------------------------------------------\n",
        "# korzystamy z standardowego modelu (wyternwanego na standardowych dla US fakturach)\n",
        "# --> \"prebuilt-invoice\"\n",
        "\n",
        "    poller = document_analysis_client.begin_analyze_document_from_url(\"prebuilt-invoice\", invoiceUrl)\n",
        "#----------------------------------------------------------------------------------------------------\n",
        "\n",
        "    invoices = poller.result()\n",
        "#----------------------------------------------------------------------------------------------------\n",
        "\n",
        "    for idx, invoice in enumerate(invoices.documents):\n",
        "        print(\"--------Rozpoznana faktura #{}--------\".format(idx + 1))\n",
        "        vendor_name = invoice.fields.get(\"VendorName\")\n",
        "        if vendor_name:\n",
        "            print(\n",
        "                \"Nazwa dostawcy       : {}\".format(\n",
        "                    vendor_name.value\n",
        "                )\n",
        "            )\n",
        "        vendor_address = invoice.fields.get(\"VendorAddress\")\n",
        "        if vendor_address:\n",
        "            print(\n",
        "                \"Adres dostawcy       : {}\".format(\n",
        "                    vendor_address.value\n",
        "                )\n",
        "            )\n",
        "        customer_name = invoice.fields.get(\"CustomerName\")\n",
        "        if customer_name:\n",
        "            print(\n",
        "                \"Nazwa klienta        : {}\".format(\n",
        "                    customer_name.value\n",
        "                )\n",
        "            )\n",
        ""
      ],
      "metadata": {
        "id": "3bORSQiI_LfV"
      },
      "execution_count": 10,
      "outputs": []
    },
    {
      "cell_type": "code",
      "source": [
        "#++++++++++++++++++++++++++++++++++++++++++++++++++++++++++++++++++++++++++++++++++++++++++++++++++++++++++++++\n",
        "def analyze_invoice_with_confidence():\n",
        "# analogiczna do powyżej zdefiniowanej funkcja\n",
        "# IDENTYFIKUJE WSZYSTKIE POLA FAKTURY\n",
        "# wyświetla również poziom pewności klasyfikacji poszczególnych pól\n",
        "\n",
        "    document_analysis_client = DocumentAnalysisClient(\n",
        "        endpoint=endpoint, credential=AzureKeyCredential(key)\n",
        "    )\n",
        "\n",
        "    poller = document_analysis_client.begin_analyze_document_from_url(\n",
        "            \"prebuilt-invoice\", invoiceUrl)\n",
        "    invoices = poller.result()\n",
        "\n",
        "    for idx, invoice in enumerate(invoices.documents):\n",
        "        print(\"--------Rozpoznana faktura #{}--------\".format(idx + 1))\n",
        "        vendor_name = invoice.fields.get(\"VendorName\")\n",
        "        if vendor_name:\n",
        "            print(\n",
        "                \"Nazwa dostawcy       : {} pewność identyfikacji: {}\".format(\n",
        "                    vendor_name.value, vendor_name.confidence\n",
        "                )\n",
        "            )\n",
        "        vendor_address = invoice.fields.get(\"VendorAddress\")\n",
        "        if vendor_address:\n",
        "            print(\n",
        "                \"Adres dostawcy       : {} pewność identyfikacji: {}\".format(\n",
        "                    vendor_address.value, vendor_address.confidence\n",
        "                )\n",
        "            )\n",
        "        customer_name = invoice.fields.get(\"CustomerName\")\n",
        "        if customer_name:\n",
        "            print(\n",
        "                \"Nazwa klienta        : {} pewność identyfikacji: {}\".format(\n",
        "                    customer_name.value, customer_name.confidence\n",
        "                )\n",
        "            )\n",
        "        invoice_id = invoice.fields.get(\"InvoiceId\")\n",
        "        if invoice_id:\n",
        "            print(\n",
        "                \"Identyfikator faktury: {} pewność identyfikacji: {}\".format(\n",
        "                    invoice_id.value, invoice_id.confidence\n",
        "                )\n",
        "            )\n",
        "        invoice_date = invoice.fields.get(\"InvoiceDate\")\n",
        "        if invoice_date:\n",
        "            print(\n",
        "                \"Data faktury         : {} pewność identyfikacji: {}\".format(\n",
        "                    invoice_date.value, invoice_date.confidence\n",
        "                )\n",
        "            )\n",
        "        invoice_total = invoice.fields.get(\"InvoiceTotal\")\n",
        "        if invoice_total:\n",
        "            print(\n",
        "                \"Suma                 : {} pewność identyfikacji: {}\".format(\n",
        "                    invoice_total.value, invoice_total.confidence\n",
        "                )\n",
        "            )\n",
        "        due_date = invoice.fields.get(\"DueDate\")\n",
        "        if due_date:\n",
        "            print(\n",
        "                \"Termin płatnosci     : {} pewność identyfikacji: {}\".format(\n",
        "                    due_date.value, due_date.confidence\n",
        "                )\n",
        "            )\n",
        "        purchase_order = invoice.fields.get(\"PurchaseOrder\")\n",
        "        if purchase_order:\n",
        "            print(\n",
        "                \"Zamówienie           : {} pewność identyfikacji:{}\".format(\n",
        "                    purchase_order.value, purchase_order.confidence\n",
        "                )\n",
        "            )\n",
        "        shipping_address = invoice.fields.get(\"ShippingAddress\")\n",
        "        if shipping_address:\n",
        "            print(\n",
        "                \"Adres wysyłki        : {} pewność identyfikacji:{}\".format(\n",
        "                    shipping_address.value, shipping_address.confidence\n",
        "                )\n",
        "            )\n",
        "        print(\"-----------------------------------------------\")\n",
        "        print(\"Pozycje na fakturze  :\")\n",
        "        for idx, item in enumerate(invoice.fields.get(\"Items\").value):\n",
        "            print(\"...Pozycja #{}\".format(idx + 1))\n",
        "            item_description = item.value.get(\"Description\")\n",
        "            if item_description:\n",
        "                print(\n",
        "                    \"......Opis        : {} pewność identyfikacji: {}\".format(\n",
        "                        item_description.value, item_description.confidence\n",
        "                    )\n",
        "                )\n",
        "            unit = item.value.get(\"Unit\")\n",
        "            if unit:\n",
        "                print(\n",
        "                    \"......Jednostka   : {} pewność identyfikacji: {}\".format(\n",
        "                        unit.value, unit.confidence\n",
        "                    )\n",
        "                )\n",
        "            unit_price = item.value.get(\"UnitPrice\")\n",
        "            if unit_price:\n",
        "                print(\n",
        "                    \"......Cena jedn.  : {} pewność identyfikacji: {}\".format(\n",
        "                        unit_price.value, unit_price.confidence\n",
        "                    )\n",
        "                )\n",
        "            product_code = item.value.get(\"ProductCode\")\n",
        "            if product_code:\n",
        "                print(\n",
        "                    \"......KOd produktu: {} pewność identyfikacji:{}\".format(\n",
        "                        product_code.value, product_code.confidence\n",
        "                    )\n",
        "                )\n",
        "            item_date = item.value.get(\"Date\")\n",
        "            if item_date:\n",
        "                print(\n",
        "                    \"......Data       : {} pewność identyfikacji: {}\".format(\n",
        "                        item_date.value, item_date.confidence\n",
        "                    )\n",
        "                )\n",
        "            tax = item.value.get(\"Tax\")\n",
        "            if tax:\n",
        "                print(\n",
        "                    \"......Podatek   : {} pewność identyfikacji: {}\".format(tax.value, tax.confidence)\n",
        "                )\n",
        "            amount = item.value.get(\"Amount\")\n",
        "            if amount:\n",
        "                print(\n",
        "                    \"......Ilosć       : {} pewność identyfikacji: {}\".format(\n",
        "                        amount.value, amount.confidence\n",
        "                    )\n",
        "                )\n",
        "        print(\"----------------------------------\")\n",
        "        subtotal = invoice.fields.get(\"SubTotal\")\n",
        "        if subtotal:\n",
        "            print(\n",
        "                \"Suma częściowa    : {} pewność identyfikacji: {}\".format(\n",
        "                    subtotal.value, subtotal.confidence\n",
        "                )\n",
        "            )\n",
        "        total_tax = invoice.fields.get(\"TotalTax\")\n",
        "        if total_tax:\n",
        "            print(\n",
        "                \"POdatek całkowity : {} pewność identyfikacji: {}\".format(\n",
        "                    total_tax.value, total_tax.confidence\n",
        "                )\n",
        "            )\n"
      ],
      "metadata": {
        "id": "HIwvJvFaSmgW"
      },
      "execution_count": 11,
      "outputs": []
    },
    {
      "cell_type": "code",
      "source": [
        "#++++++++++++++++++++++++++++++++++++++++++++++++++++++++++++++++++++++++++++++++++++++++++++++++++++++++++++++\n",
        "analyze_invoice()"
      ],
      "metadata": {
        "colab": {
          "base_uri": "https://localhost:8080/"
        },
        "id": "8LqMMscICi7O",
        "outputId": "598d6fd1-85aa-4869-dbfb-d9f27ed18706"
      },
      "execution_count": 12,
      "outputs": [
        {
          "output_type": "stream",
          "name": "stdout",
          "text": [
            "--------Rozpoznana faktura #1--------\n",
            "Nazwa dostawcy       : CONTOSO LTD.\n",
            "Adres dostawcy       : AddressValue(house_number=123, po_box=None, road=456th St, city=New York, state=NY, postal_code=10001, country_region=None, street_address=123 456th St)\n",
            "Nazwa klienta        : MICROSOFT CORPORATION\n"
          ]
        }
      ]
    },
    {
      "cell_type": "code",
      "source": [
        "#++++++++++++++++++++++++++++++++++++++++++++++++++++++++++++++++++++++++++++++++++++++++++++++++++++++++++++++\n",
        "analyze_invoice_with_confidence()"
      ],
      "metadata": {
        "colab": {
          "base_uri": "https://localhost:8080/"
        },
        "id": "NtdcRpmoT4rH",
        "outputId": "da414740-133e-48f3-c859-1bdb18dc3314"
      },
      "execution_count": 13,
      "outputs": [
        {
          "output_type": "stream",
          "name": "stdout",
          "text": [
            "--------Rozpoznana faktura #1--------\n",
            "Nazwa dostawcy       : CONTOSO LTD. pewność identyfikacji: 0.917\n",
            "Adres dostawcy       : AddressValue(house_number=123, po_box=None, road=456th St, city=New York, state=NY, postal_code=10001, country_region=None, street_address=123 456th St) pewność identyfikacji: 0.887\n",
            "Nazwa klienta        : MICROSOFT CORPORATION pewność identyfikacji: 0.893\n",
            "Identyfikator faktury: INV-100 pewność identyfikacji: 0.971\n",
            "Data faktury         : 2019-11-15 pewność identyfikacji: 0.97\n",
            "Suma                 : $110.0 pewność identyfikacji: 0.969\n",
            "Termin płatnosci     : 2019-12-15 pewność identyfikacji: 0.969\n",
            "Zamówienie           : PO-3333 pewność identyfikacji:0.943\n",
            "Adres wysyłki        : AddressValue(house_number=123, po_box=None, road=Ship St, city=Redmond, state=WA, postal_code=98052, country_region=None, street_address=123 Ship St) pewność identyfikacji:0.888\n",
            "-----------------------------------------------\n",
            "Pozycje na fakturze  :\n",
            "...Pozycja #1\n",
            "......Opis        : Test for 23 fields pewność identyfikacji: 0.914\n",
            "......Cena jedn.  : 1.0 pewność identyfikacji: 0.893\n",
            "......Ilosć       : $100.0 pewność identyfikacji: 0.911\n",
            "----------------------------------\n",
            "Suma częściowa    : $100.0 pewność identyfikacji: 0.97\n",
            "POdatek całkowity : $10.0 pewność identyfikacji: 0.967\n"
          ]
        }
      ]
    }
  ]
}