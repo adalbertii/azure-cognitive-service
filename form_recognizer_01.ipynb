{
  "nbformat": 4,
  "nbformat_minor": 0,
  "metadata": {
    "colab": {
      "provenance": [],
      "mount_file_id": "1EogqwEKo7xjmnmoCNA2vGZUIQ_tA2Wht",
      "authorship_tag": "ABX9TyPgmv6T1f+tPzGBXFm4WIal",
      "include_colab_link": true
    },
    "kernelspec": {
      "name": "python3",
      "display_name": "Python 3"
    },
    "language_info": {
      "name": "python"
    }
  },
  "cells": [
    {
      "cell_type": "markdown",
      "metadata": {
        "id": "view-in-github",
        "colab_type": "text"
      },
      "source": [
        "<a href=\"https://colab.research.google.com/github/adalbertii/azure-cognitive-service/blob/main/form_recognizer_01.ipynb\" target=\"_parent\"><img src=\"https://colab.research.google.com/assets/colab-badge.svg\" alt=\"Open In Colab\"/></a>"
      ]
    },
    {
      "cell_type": "code",
      "execution_count": 1,
      "metadata": {
        "colab": {
          "base_uri": "https://localhost:8080/"
        },
        "id": "WTiO7FFV1Mri",
        "outputId": "f82d2da4-81e3-4a81-f504-0db1837ec8f1"
      },
      "outputs": [
        {
          "output_type": "stream",
          "name": "stdout",
          "text": [
            "Collecting azure-ai-formrecognizer\n",
            "  Downloading azure_ai_formrecognizer-3.3.2-py3-none-any.whl (300 kB)\n",
            "\u001b[2K     \u001b[90m━━━━━━━━━━━━━━━━━━━━━━━━━━━━━━━━━━━━━━━━\u001b[0m \u001b[32m300.1/300.1 kB\u001b[0m \u001b[31m7.7 MB/s\u001b[0m eta \u001b[36m0:00:00\u001b[0m\n",
            "\u001b[?25hCollecting azure-core<2.0.0,>=1.23.0 (from azure-ai-formrecognizer)\n",
            "  Downloading azure_core-1.29.5-py3-none-any.whl (192 kB)\n",
            "\u001b[2K     \u001b[90m━━━━━━━━━━━━━━━━━━━━━━━━━━━━━━━━━━━━━━━━\u001b[0m \u001b[32m192.4/192.4 kB\u001b[0m \u001b[31m17.5 MB/s\u001b[0m eta \u001b[36m0:00:00\u001b[0m\n",
            "\u001b[?25hCollecting msrest>=0.6.21 (from azure-ai-formrecognizer)\n",
            "  Downloading msrest-0.7.1-py3-none-any.whl (85 kB)\n",
            "\u001b[2K     \u001b[90m━━━━━━━━━━━━━━━━━━━━━━━━━━━━━━━━━━━━━━━━\u001b[0m \u001b[32m85.4/85.4 kB\u001b[0m \u001b[31m8.8 MB/s\u001b[0m eta \u001b[36m0:00:00\u001b[0m\n",
            "\u001b[?25hCollecting azure-common~=1.1 (from azure-ai-formrecognizer)\n",
            "  Downloading azure_common-1.1.28-py2.py3-none-any.whl (14 kB)\n",
            "Requirement already satisfied: typing-extensions>=4.0.1 in /usr/local/lib/python3.10/dist-packages (from azure-ai-formrecognizer) (4.5.0)\n",
            "Requirement already satisfied: requests>=2.18.4 in /usr/local/lib/python3.10/dist-packages (from azure-core<2.0.0,>=1.23.0->azure-ai-formrecognizer) (2.31.0)\n",
            "Requirement already satisfied: six>=1.11.0 in /usr/local/lib/python3.10/dist-packages (from azure-core<2.0.0,>=1.23.0->azure-ai-formrecognizer) (1.16.0)\n",
            "Collecting typing-extensions>=4.0.1 (from azure-ai-formrecognizer)\n",
            "  Downloading typing_extensions-4.8.0-py3-none-any.whl (31 kB)\n",
            "Requirement already satisfied: certifi>=2017.4.17 in /usr/local/lib/python3.10/dist-packages (from msrest>=0.6.21->azure-ai-formrecognizer) (2023.7.22)\n",
            "Collecting isodate>=0.6.0 (from msrest>=0.6.21->azure-ai-formrecognizer)\n",
            "  Downloading isodate-0.6.1-py2.py3-none-any.whl (41 kB)\n",
            "\u001b[2K     \u001b[90m━━━━━━━━━━━━━━━━━━━━━━━━━━━━━━━━━━━━━━━━\u001b[0m \u001b[32m41.7/41.7 kB\u001b[0m \u001b[31m5.8 MB/s\u001b[0m eta \u001b[36m0:00:00\u001b[0m\n",
            "\u001b[?25hRequirement already satisfied: requests-oauthlib>=0.5.0 in /usr/local/lib/python3.10/dist-packages (from msrest>=0.6.21->azure-ai-formrecognizer) (1.3.1)\n",
            "Requirement already satisfied: charset-normalizer<4,>=2 in /usr/local/lib/python3.10/dist-packages (from requests>=2.18.4->azure-core<2.0.0,>=1.23.0->azure-ai-formrecognizer) (3.3.2)\n",
            "Requirement already satisfied: idna<4,>=2.5 in /usr/local/lib/python3.10/dist-packages (from requests>=2.18.4->azure-core<2.0.0,>=1.23.0->azure-ai-formrecognizer) (3.4)\n",
            "Requirement already satisfied: urllib3<3,>=1.21.1 in /usr/local/lib/python3.10/dist-packages (from requests>=2.18.4->azure-core<2.0.0,>=1.23.0->azure-ai-formrecognizer) (2.0.7)\n",
            "Requirement already satisfied: oauthlib>=3.0.0 in /usr/local/lib/python3.10/dist-packages (from requests-oauthlib>=0.5.0->msrest>=0.6.21->azure-ai-formrecognizer) (3.2.2)\n",
            "Installing collected packages: azure-common, typing-extensions, isodate, azure-core, msrest, azure-ai-formrecognizer\n",
            "  Attempting uninstall: typing-extensions\n",
            "    Found existing installation: typing_extensions 4.5.0\n",
            "    Uninstalling typing_extensions-4.5.0:\n",
            "      Successfully uninstalled typing_extensions-4.5.0\n",
            "\u001b[31mERROR: pip's dependency resolver does not currently take into account all the packages that are installed. This behaviour is the source of the following dependency conflicts.\n",
            "tensorflow-probability 0.22.0 requires typing-extensions<4.6.0, but you have typing-extensions 4.8.0 which is incompatible.\u001b[0m\u001b[31m\n",
            "\u001b[0mSuccessfully installed azure-ai-formrecognizer-3.3.2 azure-common-1.1.28 azure-core-1.29.5 isodate-0.6.1 msrest-0.7.1 typing-extensions-4.8.0\n"
          ]
        }
      ],
      "source": [
        "pip install azure-ai-formrecognizer"
      ]
    },
    {
      "cell_type": "code",
      "source": [
        "\n",
        "\n",
        "from azure.ai.formrecognizer import FormRecognizerClient\n",
        "from azure.core.credentials import AzureKeyCredential\n",
        "\n",
        "import os\n"
      ],
      "metadata": {
        "id": "gvsQ3etU1X7F"
      },
      "execution_count": 3,
      "outputs": []
    },
    {
      "cell_type": "code",
      "source": [
        "# Endpoint URL\n",
        "endpoint = r\"https://form-reco-01.cognitiveservices.azure.com/\"\n",
        "apim_key = \"2492c8adf163495da0aeb667187d85bd\"\n",
        "post_url = endpoint + \"/formrecognizer/v2.1/prebuilt/receipt/analyze\"\n",
        "source = r\"/content/drive/MyDrive/dane/Receipt01.jpg\"\n",
        "\n",
        "headers = {\n",
        "# Request headers\n",
        "  'Content-Type': '<file type>',\n",
        "  'Ocp-Apim-Subscription-Key': apim_key,\n",
        "}\n",
        "\n",
        "params = {\n",
        "  \"includeTextDetails\":True,\n",
        "  \"locale\": \"en-US\"\n",
        "}\n",
        "\n",
        "\n",
        "\n"
      ],
      "metadata": {
        "id": "Ry7_Z3nL5BZx"
      },
      "execution_count": 11,
      "outputs": []
    },
    {
      "cell_type": "code",
      "source": [],
      "metadata": {
        "id": "8yDUE85c7w9n"
      },
      "execution_count": null,
      "outputs": []
    },
    {
      "cell_type": "code",
      "source": [],
      "metadata": {
        "id": "nFsijv7T8NGX"
      },
      "execution_count": null,
      "outputs": []
    },
    {
      "cell_type": "code",
      "source": [
        "    ########### Python Form Recognizer Async Receipt #############\n",
        "\n",
        "import json\n",
        "import time\n",
        "from requests import get, post\n",
        "\n",
        "    # Endpoint URL\n",
        "endpoint = r\"https://form-reco-01.cognitiveservices.azure.com/\"\n",
        "apim_key = \"2492c8adf163495da0aeb667187d85bd\"\n",
        "post_url = endpoint + \"/formrecognizer/v2.1/prebuilt/receipt/analyze\"\n",
        "source = \"/content/drive/MyDrive/dane/contoso-allinone.jpg\"\n",
        "\n",
        "headers = {\n",
        "    # Request headers\n",
        "    'Content-Type': 'application/octet-stream',\n",
        "    'Ocp-Apim-Subscription-Key': apim_key,\n",
        "}\n",
        "\n",
        "params = {\n",
        "    \"includeTextDetails\": True,\n",
        "    \"locale\": \"en-US\"\n",
        "}\n",
        "\n",
        "f= open(source, \"rb\")\n",
        "data_bytes = f.read()\n",
        "\n"
      ],
      "metadata": {
        "id": "AdzpvG0X4WBB"
      },
      "execution_count": 19,
      "outputs": []
    },
    {
      "cell_type": "code",
      "source": [
        "resp = post(url = post_url, data = data_bytes, headers = headers, params = params)\n",
        "if resp.status_code != 202:\n",
        "  print(\"POST analyze failed:\\n%s\" % resp.text)\n",
        "  quit()\n",
        "else:\n",
        "  print(\"POST analyze succeeded:\\n%s\" % resp.headers)\n",
        " # get_url = resp.headers[\"operation-location\"]\n"
      ],
      "metadata": {
        "colab": {
          "base_uri": "https://localhost:8080/"
        },
        "id": "VFgdqxiF-NRr",
        "outputId": "1d343dac-af64-4f9b-fa2e-2d81c0b9dd74"
      },
      "execution_count": 20,
      "outputs": [
        {
          "output_type": "stream",
          "name": "stdout",
          "text": [
            "POST analyze succeeded:\n",
            "{'Content-Length': '0', 'Operation-Location': 'https://form-reco-01.cognitiveservices.azure.com/formrecognizer/v2.1/prebuilt/receipt/analyzeResults/9ad6b224-6d17-4fc3-a8d3-d7f2a788b7ef', 'x-envoy-upstream-service-time': '129', 'apim-request-id': '9ad6b224-6d17-4fc3-a8d3-d7f2a788b7ef', 'Strict-Transport-Security': 'max-age=31536000; includeSubDomains; preload', 'x-content-type-options': 'nosniff', 'x-ms-region': 'East US', 'Date': 'Mon, 20 Nov 2023 09:25:42 GMT'}\n"
          ]
        }
      ]
    },
    {
      "cell_type": "code",
      "source": [
        "wynik =  resp.raw\n",
        "\n",
        "wynik"
      ],
      "metadata": {
        "colab": {
          "base_uri": "https://localhost:8080/"
        },
        "id": "eJGaqy1kASZ5",
        "outputId": "35dfdb4e-5a81-4e3c-d056-3dc70a2c272a"
      },
      "execution_count": 30,
      "outputs": [
        {
          "output_type": "execute_result",
          "data": {
            "text/plain": [
              "<urllib3.response.HTTPResponse at 0x7c5d430d5e70>"
            ]
          },
          "metadata": {},
          "execution_count": 30
        }
      ]
    },
    {
      "cell_type": "code",
      "source": [],
      "metadata": {
        "id": "r-wIqU9bBr1b"
      },
      "execution_count": null,
      "outputs": []
    }
  ]
}